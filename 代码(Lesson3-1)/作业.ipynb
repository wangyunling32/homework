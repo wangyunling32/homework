{
 "cells": [
  {
   "cell_type": "markdown",
   "metadata": {},
   "source": [
    "1、请简略说明有监督学习和无监督学习有什么区别"
   ]
  },
  {
   "cell_type": "markdown",
   "metadata": {},
   "source": [
    "答：有监督学习，提供数据特征的同时也提供数据真实的标签；无监督学习，仅提供数据特征。"
   ]
  },
  {
   "cell_type": "markdown",
   "metadata": {},
   "source": [
    "2、列出至少6种传统机器学习模型"
   ]
  },
  {
   "cell_type": "markdown",
   "metadata": {},
   "source": [
    "答：线性分类器（如LR)、支持向量机（SVM）、朴素贝叶斯（NB）、K近邻（KNN）；数据聚类（K-means）、数据降维（PCA）。"
   ]
  },
  {
   "cell_type": "markdown",
   "metadata": {},
   "source": [
    "3、请简略说明，为什么PR曲线能在正负样本及其不均衡的情况下很好地反映出模型真正地分类效果"
   ]
  },
  {
   "cell_type": "markdown",
   "metadata": {},
   "source": [
    "答：PR曲线有一个缺点就是会受到正负样本比例的影响。比如当负样本增加10倍后，在召回率不变的情况下，必然召回了更多的负样本，所以精确度就会大幅下降，所以PR曲线对正负样本分布比较敏感。"
   ]
  },
  {
   "cell_type": "markdown",
   "metadata": {},
   "source": [
    "代码作业"
   ]
  },
  {
   "cell_type": "code",
   "execution_count": 5,
   "metadata": {},
   "outputs": [],
   "source": [
    "def knn(x1,x2,k):\n",
    "    result=[]\n",
    "    point={(1,1):2,(0.4,5.2):1,(-2.8,-1.1):2,(3.2,1.4):1,(-1.3,3.2):1,(-3,3.1):2}\n",
    "    for key in point:\n",
    "        result.append(((key[0]-x1)**2+(key[1]-x2)**2,point[key]))\n",
    "    #距离升序排列\n",
    "    result=sorted(result)\n",
    "    #类别为1的点的数量\n",
    "    r1=0\n",
    "    #类别为2的点的数量\n",
    "    r2=0\n",
    "    for i in range(k):\n",
    "        if(result[i][1]==1):\n",
    "            r1+=1\n",
    "        else:\n",
    "            r2+=1\n",
    "    if r1>r2:\n",
    "        print(\"({},{}),y=1\".format(x1,x2))\n",
    "    else:\n",
    "        print(\"({},{}),y=2\".format(x1,x2))\n",
    "                      "
   ]
  },
  {
   "cell_type": "code",
   "execution_count": 6,
   "metadata": {},
   "outputs": [
    {
     "name": "stdout",
     "output_type": "stream",
     "text": [
      "(-2.6,6.6),y=1\n",
      "(1.4,1.6),y=2\n",
      "(-2.5,1.2),y=2\n"
     ]
    }
   ],
   "source": [
    "knn(-2.6,6.6,1)\n",
    "knn(1.4,1.6,1)\n",
    "knn(-2.5,1.2,1)"
   ]
  },
  {
   "cell_type": "code",
   "execution_count": null,
   "metadata": {},
   "outputs": [],
   "source": []
  }
 ],
 "metadata": {
  "kernelspec": {
   "display_name": "Python 3",
   "language": "python",
   "name": "python3"
  },
  "language_info": {
   "codemirror_mode": {
    "name": "ipython",
    "version": 3
   },
   "file_extension": ".py",
   "mimetype": "text/x-python",
   "name": "python",
   "nbconvert_exporter": "python",
   "pygments_lexer": "ipython3",
   "version": "3.7.0"
  }
 },
 "nbformat": 4,
 "nbformat_minor": 2
}
