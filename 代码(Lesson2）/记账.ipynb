{
 "cells": [
  {
   "cell_type": "code",
   "execution_count": 4,
   "metadata": {},
   "outputs": [
    {
     "name": "stdout",
     "output_type": "stream",
     "text": [
      "请输入第1天的收入200\n",
      "请输入第1天的支出100\n",
      "请输入第2天的收入300\n",
      "请输入第2天的支出400\n",
      "请输入第3天的收入300\n",
      "请输入第3天的支出250\n",
      "请输入第4天的收入500\n",
      "请输入第4天的支出520\n",
      "请输入第5天的收入300\n",
      "请输入第5天的支出100\n",
      "请输入第6天的收入600\n",
      "请输入第6天的支出320\n",
      "请输入第7天的收入800\n",
      "请输入第7天的支出650\n",
      "7天的收入：[200.0, 300.0, 300.0, 500.0, 300.0, 600.0, 800.0]\n",
      "7天的支出：[100.0, 400.0, 250.0, 520.0, 100.0, 320.0, 650.0]\n",
      "每天的结余：{'第1天': 100.0, '第2天': -100.0, '第3天': 50.0, '第4天': -20.0, '第5天': 200.0, '第6天': 280.0, '第7天': 150.0}\n",
      "最终的结余：660.0\n"
     ]
    }
   ],
   "source": [
    "income=[] #收入\n",
    "pay=[] #支出\n",
    "balance=[] #结余\n",
    "day=[]\n",
    "new_balance={}\n",
    "summa=0.0\n",
    "for i in range(7):\n",
    "    income.append(float(input('请输入第{0}天的收入'.format(i+1))))\n",
    "    pay.append(float(input('请输入第{0}天的支出'.format(i+1))))\n",
    "    balance.append(income[i]-pay[i])\n",
    "    day.append('第{0}天'.format(i+1))\n",
    "    summa=summa+balance[i]\n",
    "new_balance=dict(zip(day,balance))\n",
    "print('7天的收入：'+str(income))\n",
    "print('7天的支出：'+str(pay))\n",
    "print('每天的结余：'+str(new_balance))\n",
    "print('最终的结余：'+str(summa))"
   ]
  },
  {
   "cell_type": "code",
   "execution_count": null,
   "metadata": {},
   "outputs": [],
   "source": []
  }
 ],
 "metadata": {
  "kernelspec": {
   "display_name": "Python 3",
   "language": "python",
   "name": "python3"
  },
  "language_info": {
   "codemirror_mode": {
    "name": "ipython",
    "version": 3
   },
   "file_extension": ".py",
   "mimetype": "text/x-python",
   "name": "python",
   "nbconvert_exporter": "python",
   "pygments_lexer": "ipython3",
   "version": "3.7.0"
  }
 },
 "nbformat": 4,
 "nbformat_minor": 2
}
