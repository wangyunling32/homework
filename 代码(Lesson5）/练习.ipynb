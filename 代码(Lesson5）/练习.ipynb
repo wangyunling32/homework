{
 "cells": [
  {
   "cell_type": "code",
   "execution_count": 4,
   "metadata": {},
   "outputs": [],
   "source": [
    "class People:\n",
    "    def __init__(self, name, damage, hp):\n",
    "        self.name=name\n",
    "        self.damage=damage\n",
    "        self.hp=hp\n",
    "class Hero(People):\n",
    "    def __init__(self, name, damage, hp, country):\n",
    "        People.__init__(self, name, damage, hp)\n",
    "        self.country=country   \n",
    "        \n",
    "    def get_inf(self):\n",
    "        print(\"姓名：{}\".format(self.name))\n",
    "        print(\"攻击力：{}\".format(self.damage))\n",
    "        print(\"当前血量：{}\".format(self.hp))\n",
    "        print(\"阵营：{}\".format(self.country))\n",
    "\n",
    "    def attack(self,enemy):\n",
    "        print(self.name)\n",
    "        print(\"攻击力为：{}\".format(self.damage))\n",
    "        print(\"{}目前血量为：{}\".format(enemy.name, enemy.hp))\n",
    "        print(\"{}攻击{}\".format(self.name,enemy.name))\n",
    "        enemy.hp-=self.damage\n",
    "        print(\"{}剩余血量为：{}\".format(enemy.name, enemy.hp))\n",
    "        print(\"***********************************\")\n",
    "        \n",
    "XB = People(\"小兵\", 1, 10)\n",
    "LB=Hero(\"吕布\", 20, 100, \"群雄\")\n",
    "ZF=Hero(\"张飞\", 7, 80, \"蜀国\")"
   ]
  },
  {
   "cell_type": "markdown",
   "metadata": {},
   "source": [
    "练习1"
   ]
  },
  {
   "cell_type": "code",
   "execution_count": 2,
   "metadata": {},
   "outputs": [],
   "source": [
    "class Weapon:\n",
    "    def __init__(self, name, damage):\n",
    "        \"\"\"武器基础属性\"\"\"\n",
    "        self.name=name\n",
    "        self.damage=damage\n",
    "\n",
    "    def take_weapon(self, hro):\n",
    "        \"\"\"将武器给予英雄，英雄攻击力提升\"\"\"\n",
    "        print(\"将武器{}装备给英雄{}\".format(self.name, hro.name))\n",
    "        hro.damage+=self.damage\n",
    "        print(\"{}的攻击力变为{}\".format(hro.name, hro.damage))"
   ]
  },
  {
   "cell_type": "markdown",
   "metadata": {},
   "source": [
    "练习2"
   ]
  },
  {
   "cell_type": "code",
   "execution_count": 5,
   "metadata": {},
   "outputs": [
    {
     "name": "stdout",
     "output_type": "stream",
     "text": [
      "将武器丈八蛇矛装备给英雄张飞\n",
      "张飞的攻击力变为10\n"
     ]
    }
   ],
   "source": [
    "ZBSM=Weapon(\"丈八蛇矛\",3)\n",
    "ZBSM.take_weapon(ZF)"
   ]
  },
  {
   "cell_type": "markdown",
   "metadata": {},
   "source": [
    "练习3"
   ]
  },
  {
   "cell_type": "code",
   "execution_count": 6,
   "metadata": {},
   "outputs": [
    {
     "name": "stdout",
     "output_type": "stream",
     "text": [
      "姓名：张飞\n",
      "攻击力：10\n",
      "当前血量：80\n",
      "阵营：蜀国\n",
      "张飞\n",
      "攻击力为：10\n",
      "吕布目前血量为：100\n",
      "张飞攻击吕布\n",
      "吕布剩余血量为：90\n",
      "***********************************\n"
     ]
    }
   ],
   "source": [
    "ZF.get_inf()\n",
    "ZF.attack(LB)"
   ]
  }
 ],
 "metadata": {
  "kernelspec": {
   "display_name": "Python 3",
   "language": "python",
   "name": "python3"
  },
  "language_info": {
   "codemirror_mode": {
    "name": "ipython",
    "version": 3
   },
   "file_extension": ".py",
   "mimetype": "text/x-python",
   "name": "python",
   "nbconvert_exporter": "python",
   "pygments_lexer": "ipython3",
   "version": "3.7.0"
  }
 },
 "nbformat": 4,
 "nbformat_minor": 2
}
