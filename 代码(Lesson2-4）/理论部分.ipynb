{
 "cells": [
  {
   "cell_type": "markdown",
   "metadata": {},
   "source": [
    "1. python中可以使用import导入哪些对象？"
   ]
  },
  {
   "cell_type": "markdown",
   "metadata": {},
   "source": [
    "答：\n",
    "一、模块"
   ]
  },
  {
   "cell_type": "markdown",
   "metadata": {},
   "source": [
    " 可以被 import 语句导入的模块共有以下四类: （1）使用Python写的程序( .py文件)；（2）C或C++扩展(已编译为共享库或DLL文件)；（3）包(包含多个模块)；（4）内建模块(使用C编写并已链接到Python解释器内)"
   ]
  },
  {
   "cell_type": "markdown",
   "metadata": {},
   "source": [
    "二、包"
   ]
  },
  {
   "cell_type": "markdown",
   "metadata": {},
   "source": [
    " 多个关系密切的模块应该组织成一个包，以便于维护和使用。这项技术能有效避免名字空间冲突。\n",
    "    import语句使用以下几种方式导入包中的模块: \n",
    "    （1）import Graphics.Primitive.fill 导入模块Graphics.Primitive.fill,只能以全名访问模块属性,例如 Graphics.Primitive.fill.floodfill(img,x,y,color). \n",
    "    （2）from Graphics.Primitive import fill 导入模块fill ,只能以 fill.属性名这种方式访问模块属性,例如 fill.floodfill(img,x,y,color). \n",
    "    （3）from Graphics.Primitive.fill import floodfill 导入模块fill ,并将函数floodfill放入当前名称空间,直接访问被导入的属性，例如 floodfill(img,x,y,color)."
   ]
  },
  {
   "cell_type": "markdown",
   "metadata": {},
   "source": [
    "三、sys.path 和sys.modules"
   ]
  },
  {
   "cell_type": "markdown",
   "metadata": {},
   "source": [
    "2. 机器学习和函数/模块的思想有哪些异同？"
   ]
  },
  {
   "cell_type": "markdown",
   "metadata": {},
   "source": [
    "答：编写函数类似于复现一些想法或者一些数学公式/功能。 也就是说，使用编程/函数处理问题，首先要在逻辑上有个清晰的框架，然后再使用代码实现。即人为编写f , 然后输入x,输出y。"
   ]
  },
  {
   "cell_type": "markdown",
   "metadata": {},
   "source": [
    " 机器学习是给定x,y，然后去学习f，这是一种通过利用数据，训练出模型，然后使用模型预测的一种方法。例如：假设体重是由性别和身高决定的，但具体的关系我们不是很清楚，这个时候我们通过一份既有的性别、身高和体重的关系表，根据这张关系表训练出一个模型，进而可以根据性别、身高来预测体重。\n",
    " "
   ]
  }
 ],
 "metadata": {
  "kernelspec": {
   "display_name": "Python 3",
   "language": "python",
   "name": "python3"
  },
  "language_info": {
   "codemirror_mode": {
    "name": "ipython",
    "version": 3
   },
   "file_extension": ".py",
   "mimetype": "text/x-python",
   "name": "python",
   "nbconvert_exporter": "python",
   "pygments_lexer": "ipython3",
   "version": "3.7.0"
  }
 },
 "nbformat": 4,
 "nbformat_minor": 2
}
