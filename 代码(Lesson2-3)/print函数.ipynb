{
 "cells": [
  {
   "cell_type": "code",
   "execution_count": 13,
   "metadata": {},
   "outputs": [
    {
     "name": "stdout",
     "output_type": "stream",
     "text": [
      "This is a test\n",
      "\n",
      "This is a test\n",
      "\n",
      "This-is-a-test\n",
      "\n",
      "This_is_a_test_,_Yes.\n"
     ]
    }
   ],
   "source": [
    "def print_string(*tems,sep=' ',end='\\n'):\n",
    "    result=''\n",
    "    i=1\n",
    "    for tem in tems:\n",
    "        result+=tem\n",
    "        if i!=(len(tems)):\n",
    "            result+=sep\n",
    "        i+=1\n",
    "    result+=end\n",
    "    return result\n",
    "print(print_string('This is a test'))\n",
    "print(print_string('This', 'is', 'a', 'test'))\n",
    "print(print_string('This', 'is', 'a', 'test', sep = '-'))\n",
    "print(print_string('This', 'is', 'a', 'test', ',', 'Yes', sep = '_', end = '.'))\n",
    "        \n",
    "        "
   ]
  },
  {
   "cell_type": "code",
   "execution_count": null,
   "metadata": {},
   "outputs": [],
   "source": []
  }
 ],
 "metadata": {
  "kernelspec": {
   "display_name": "Python 3",
   "language": "python",
   "name": "python3"
  },
  "language_info": {
   "codemirror_mode": {
    "name": "ipython",
    "version": 3
   },
   "file_extension": ".py",
   "mimetype": "text/x-python",
   "name": "python",
   "nbconvert_exporter": "python",
   "pygments_lexer": "ipython3",
   "version": "3.7.0"
  }
 },
 "nbformat": 4,
 "nbformat_minor": 2
}
