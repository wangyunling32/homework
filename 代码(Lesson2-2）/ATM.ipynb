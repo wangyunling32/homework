{
 "cells": [
  {
   "cell_type": "code",
   "execution_count": 6,
   "metadata": {},
   "outputs": [
    {
     "name": "stdout",
     "output_type": "stream",
     "text": [
      "请选择：\n",
      "1、查询余额\n",
      "2、存款\n",
      "3、取款\n",
      "4、退出\n",
      "1\n",
      "您的余额为2000元\n",
      "\n",
      "请选择：\n",
      "1、查询余额\n",
      "2、存款\n",
      "3、取款\n",
      "4、退出\n",
      "2\n",
      "请输入存款金额：3500\n",
      "您的存款金额为3500元\n",
      "\n",
      "请选择：\n",
      "1、查询余额\n",
      "2、存款\n",
      "3、取款\n",
      "4、退出\n",
      "1\n",
      "您的余额为5500元\n",
      "\n",
      "请选择：\n",
      "1、查询余额\n",
      "2、存款\n",
      "3、取款\n",
      "4、退出\n",
      "3\n",
      "请输入取款金额：1500\n",
      "您的取款金额为1500元\n",
      "\n",
      "请选择：\n",
      "1、查询余额\n",
      "2、存款\n",
      "3、取款\n",
      "4、退出\n",
      "1\n",
      "您的余额为4000元\n",
      "\n",
      "请选择：\n",
      "1、查询余额\n",
      "2、存款\n",
      "3、取款\n",
      "4、退出\n",
      "4\n",
      "再见！\n"
     ]
    }
   ],
   "source": [
    "money=2000 #余额\n",
    "while True:\n",
    "    print('请选择：\\n1、查询余额\\n2、存款\\n3、取款\\n4、退出')\n",
    "    a=int(input())\n",
    "    if a==1:\n",
    "        print('您的余额为{0}元\\n'.format(money))\n",
    "    elif a==2:\n",
    "        m=int(input('请输入存款金额：'))\n",
    "        money=money+m\n",
    "        print('您的存款金额为{0}元\\n'.format(m))\n",
    "    elif a==3:\n",
    "        m=int(input('请输入取款金额：'))\n",
    "        money=money-m\n",
    "        print('您的取款金额为{0}元\\n'.format(m))\n",
    "    else:\n",
    "        print('再见！')\n",
    "        break"
   ]
  },
  {
   "cell_type": "code",
   "execution_count": null,
   "metadata": {},
   "outputs": [],
   "source": []
  },
  {
   "cell_type": "code",
   "execution_count": null,
   "metadata": {},
   "outputs": [],
   "source": []
  }
 ],
 "metadata": {
  "kernelspec": {
   "display_name": "Python 3",
   "language": "python",
   "name": "python3"
  },
  "language_info": {
   "codemirror_mode": {
    "name": "ipython",
    "version": 3
   },
   "file_extension": ".py",
   "mimetype": "text/x-python",
   "name": "python",
   "nbconvert_exporter": "python",
   "pygments_lexer": "ipython3",
   "version": "3.7.0"
  }
 },
 "nbformat": 4,
 "nbformat_minor": 2
}
